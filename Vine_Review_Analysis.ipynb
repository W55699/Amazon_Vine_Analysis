{
  "nbformat": 4,
  "nbformat_minor": 0,
  "metadata": {
    "colab": {
      "name": "vine_review_working_Copy.ipynb",
      "provenance": [],
      "collapsed_sections": []
    },
    "kernelspec": {
      "name": "python3",
      "display_name": "Python 3"
    }
  },
  "cells": [
    {
      "cell_type": "code",
      "metadata": {
        "id": "ATbHbv8ClzK5",
        "outputId": "f157e533-be18-4e0c-b839-bd25d38c9296",
        "colab": {
          "base_uri": "https://localhost:8080/",
          "height": 254
        }
      },
      "source": [
        "import os\n",
        "# Find the latest version of spark 2.0  from http://www-us.apache.org/dist/spark/ and enter as the spark version\n",
        "# For example:\n",
        "# spark_version = 'spark-3.0.0'\n",
        "spark_version = 'spark-3.0.1'\n",
        "os.environ['SPARK_VERSION']=spark_version\n",
        "\n",
        "# Install Spark and Java\n",
        "!apt-get update\n",
        "!apt-get install openjdk-11-jdk-headless -qq > /dev/null\n",
        "!wget -q http://www-us.apache.org/dist/spark/$SPARK_VERSION/$SPARK_VERSION-bin-hadoop2.7.tgz\n",
        "!tar xf $SPARK_VERSION-bin-hadoop2.7.tgz\n",
        "!pip install -q findspark\n",
        "\n",
        "# Set Environment Variables\n",
        "import os\n",
        "os.environ[\"JAVA_HOME\"] = \"/usr/lib/jvm/java-11-openjdk-amd64\"\n",
        "os.environ[\"SPARK_HOME\"] = f\"/content/{spark_version}-bin-hadoop2.7\"\n",
        "\n",
        "# Start a SparkSession\n",
        "import findspark\n",
        "findspark.init()"
      ],
      "execution_count": null,
      "outputs": [
        {
          "output_type": "stream",
          "text": [
            "\r0% [Working]\r            \rIgn:1 https://developer.download.nvidia.com/compute/cuda/repos/ubuntu1804/x86_64  InRelease\n",
            "\r0% [Connecting to archive.ubuntu.com] [Connecting to security.ubuntu.com (91.18\r                                                                               \rHit:2 https://cloud.r-project.org/bin/linux/ubuntu bionic-cran40/ InRelease\n",
            "\r0% [Connecting to archive.ubuntu.com] [Connecting to security.ubuntu.com (91.18\r0% [2 InRelease gpgv 3,626 B] [Connecting to archive.ubuntu.com (91.189.88.142)\r                                                                               \rIgn:3 https://developer.download.nvidia.com/compute/machine-learning/repos/ubuntu1804/x86_64  InRelease\n",
            "\r0% [2 InRelease gpgv 3,626 B] [Connecting to archive.ubuntu.com (91.189.88.142)\r                                                                               \rHit:4 https://developer.download.nvidia.com/compute/cuda/repos/ubuntu1804/x86_64  Release\n",
            "Hit:5 https://developer.download.nvidia.com/compute/machine-learning/repos/ubuntu1804/x86_64  Release\n",
            "Get:6 http://security.ubuntu.com/ubuntu bionic-security InRelease [88.7 kB]\n",
            "Hit:7 http://ppa.launchpad.net/c2d4u.team/c2d4u4.0+/ubuntu bionic InRelease\n",
            "Hit:8 http://archive.ubuntu.com/ubuntu bionic InRelease\n",
            "Get:9 http://archive.ubuntu.com/ubuntu bionic-updates InRelease [88.7 kB]\n",
            "Hit:11 http://ppa.launchpad.net/graphics-drivers/ppa/ubuntu bionic InRelease\n",
            "Get:13 http://archive.ubuntu.com/ubuntu bionic-backports InRelease [74.6 kB]\n",
            "Fetched 252 kB in 2s (138 kB/s)\n",
            "Reading package lists... Done\n"
          ],
          "name": "stdout"
        }
      ]
    },
    {
      "cell_type": "code",
      "metadata": {
        "id": "5O6VI2gUWbDD",
        "outputId": "82b5651b-9d0c-4a49-ec4d-3352c99e1ee1",
        "colab": {
          "base_uri": "https://localhost:8080/",
          "height": 217
        }
      },
      "source": [
        "# Download the Postgres driver that will allow Spark to interact with Postgres.\n",
        "!wget https://jdbc.postgresql.org/download/postgresql-42.2.16.jar"
      ],
      "execution_count": null,
      "outputs": [
        {
          "output_type": "stream",
          "text": [
            "--2020-10-25 17:40:48--  https://jdbc.postgresql.org/download/postgresql-42.2.16.jar\n",
            "Resolving jdbc.postgresql.org (jdbc.postgresql.org)... 72.32.157.228, 2001:4800:3e1:1::228\n",
            "Connecting to jdbc.postgresql.org (jdbc.postgresql.org)|72.32.157.228|:443... connected.\n",
            "HTTP request sent, awaiting response... 200 OK\n",
            "Length: 1002883 (979K) [application/java-archive]\n",
            "Saving to: ‘postgresql-42.2.16.jar.2’\n",
            "\n",
            "postgresql-42.2.16. 100%[===================>] 979.38K  3.91MB/s    in 0.2s    \n",
            "\n",
            "2020-10-25 17:40:49 (3.91 MB/s) - ‘postgresql-42.2.16.jar.2’ saved [1002883/1002883]\n",
            "\n"
          ],
          "name": "stdout"
        }
      ]
    },
    {
      "cell_type": "code",
      "metadata": {
        "id": "vh7LrqetWgRB"
      },
      "source": [
        "from pyspark.sql import SparkSession\n",
        "spark = SparkSession.builder.appName(\"BigData-Challenge\").config(\"spark.driver.extraClassPath\",\"/content/postgresql-42.2.16.jar\").getOrCreate()"
      ],
      "execution_count": null,
      "outputs": []
    },
    {
      "cell_type": "code",
      "metadata": {
        "id": "gS4cNBRQWqPq",
        "outputId": "4748a70f-4333-4199-bac8-fd1169c0a3f5",
        "colab": {
          "base_uri": "https://localhost:8080/",
          "height": 510
        }
      },
      "source": [
        "from pyspark import SparkFiles\n",
        "url = \"https://s3.amazonaws.com/amazon-reviews-pds/tsv/amazon_reviews_us_Wireless_v1_00.tsv.gz\"\n",
        "spark.sparkContext.addFile(url)\n",
        "df = spark.read.option(\"encoding\", \"UTF-8\").csv(SparkFiles.get(\"\"), sep=\"\\t\", header=True, inferSchema=True)\n",
        "df.show()"
      ],
      "execution_count": null,
      "outputs": [
        {
          "output_type": "stream",
          "text": [
            "+-----------+-----------+--------------+----------+--------------+--------------------+----------------+-----------+-------------+-----------+----+-----------------+--------------------+--------------------+-----------+\n",
            "|marketplace|customer_id|     review_id|product_id|product_parent|       product_title|product_category|star_rating|helpful_votes|total_votes|vine|verified_purchase|     review_headline|         review_body|review_date|\n",
            "+-----------+-----------+--------------+----------+--------------+--------------------+----------------+-----------+-------------+-----------+----+-----------------+--------------------+--------------------+-----------+\n",
            "|         US|   16414143|R3W4P9UBGNGH1U|B00YL0EKWE|     852431543|LG G4 Case Hard T...|        Wireless|          2|            1|          3|   N|                Y|Looks good, funct...|2 issues  -  Once...| 2015-08-31|\n",
            "|         US|   50800750|R15V54KBMTQWAY|B00XK95RPQ|     516894650|Selfie Stick Fibl...|        Wireless|          4|            0|          0|   N|                N| A fun little gadget|I’m embarrassed t...| 2015-08-31|\n",
            "|         US|   15184378| RY8I449HNXSVF|B00SXRXUKO|     984297154|Tribe AB40 Water ...|        Wireless|          5|            0|          0|   N|                Y|          Five Stars|  Fits iPhone 6 well| 2015-08-31|\n",
            "|         US|   10203548|R18TLJYCKJFLSR|B009V5X1CE|     279912704|RAVPower® Element...|        Wireless|          5|            0|          0|   N|                Y|       Great charger|Great charger.  I...| 2015-08-31|\n",
            "|         US|     488280|R1NK26SWS53B8Q|B00D93OVF0|     662791300|Fosmon Micro USB ...|        Wireless|          5|            0|          0|   N|                Y|          Five Stars|Great for the pri...| 2015-08-31|\n",
            "|         US|   13334021|R11LOHEDYJALTN|B00XVGJMDQ|     421688488|iPhone 6 Case, Vo...|        Wireless|          5|            0|          0|   N|                Y|          Five Stars|Great Case, bette...| 2015-08-31|\n",
            "|         US|   27520697|R3ALQVQB2P9LA7|B00KQW1X1C|     554285554|Nokia Lumia 630 R...|        Wireless|          4|            0|          0|   N|                Y|          Four Stars|Easy to set up an...| 2015-08-31|\n",
            "|         US|   48086021|R3MWLXLNO21PDQ|B00IP1MQNK|     488006702|Lumsing 10400mah ...|        Wireless|          5|            0|          0|   N|                Y|          Five Stars|         Works great| 2015-08-31|\n",
            "|         US|   12738196|R2L15IS24CX0LI|B00HVORET8|     389677711|iPhone 5S Battery...|        Wireless|          5|            0|          0|   N|                Y|      So far so good|So far so good. I...| 2015-08-31|\n",
            "|         US|   15867807|R1DJ8976WPWVZU|B00HX3G6J6|     299654876|HTC One M8 Screen...|        Wireless|          3|            0|          0|   N|                Y|seems durable but...|seems durable but...| 2015-08-31|\n",
            "|         US|    1972249|R3MRWNNR8CBTB7|B00U4NATNQ|     577878727|S6 Case - Bear Mo...|        Wireless|          5|            0|          0|   N|                Y|Super thin, light...|Super thin, light...| 2015-08-31|\n",
            "|         US|   10956619|R1DS6DKTUXAQK3|B00SZEFDH8|     654620704|BLU Studio X, Unl...|        Wireless|          5|            0|          0|   N|                Y|          Five Stars|As good as the Sa...| 2015-08-31|\n",
            "|         US|   14805911| RWJM5E0TWUJD2|B00JRJUL9U|     391166958|EZOPower 5-Port U...|        Wireless|          5|            0|          0|   N|                Y|            EZOPower|I received this o...| 2015-08-31|\n",
            "|         US|   15611116|R1XTJKDYNCRGAC|B00KQ4T0HE|     481551630|iPhone 6S Case &i...|        Wireless|          1|            0|          0|   N|                Y|Very cheap case. ...|Very cheap case. ...| 2015-08-31|\n",
            "|         US|   39298603|R2UZL3DPWEU1XW|B00M0YWKPM|     685107474| iPhone 6s Plus Case|        Wireless|          5|            0|          0|   N|                Y|          Five Stars|       son loves it.| 2015-08-31|\n",
            "|         US|   17552454|R2EZXET9KBFFU3|B00KDZEE68|     148320945|zBoost ZB575-A TR...|        Wireless|          1|            0|          0|   N|                Y|            One Star|you have to turn ...| 2015-08-31|\n",
            "|         US|   12218556|R26VY1L1FD3LPU|B00BJN45GM|      47788188|OtterBox Defender...|        Wireless|          5|            0|          0|   N|                Y|          Five Stars|  Awesome, thank you| 2015-08-31|\n",
            "|         US|   21872923|R2SSA4NSFCV18T|B00SA86SXW|     748759272|Aduro PowerUP 30W...|        Wireless|          5|            0|          0|   N|                N|          Five Stars|         nice, smart| 2015-08-31|\n",
            "|         US|   16264332|R1G6333JHJNEUQ|B00Q3I68TU|     974085141|LilGadgets Connec...|        Wireless|          5|            0|          0|   N|                Y|Great headphones ...|We love these hea...| 2015-08-31|\n",
            "|         US|    6042304|R2DRG0UZXJQ0PE|B00TN4J1TA|     716174627|Anker Aluminum Mu...|        Wireless|          5|            0|          0|   N|                Y|          Five Stars|This is well wort...| 2015-08-31|\n",
            "+-----------+-----------+--------------+----------+--------------+--------------------+----------------+-----------+-------------+-----------+----+-----------------+--------------------+--------------------+-----------+\n",
            "only showing top 20 rows\n",
            "\n"
          ],
          "name": "stdout"
        }
      ]
    },
    {
      "cell_type": "code",
      "metadata": {
        "id": "rKlrl8FlYtcK"
      },
      "source": [
        "from pyspark.sql.functions import to_date\n",
        "from pyspark.sql.types import *\n",
        "# Read in the Review dataset as a DataFrame"
      ],
      "execution_count": null,
      "outputs": []
    },
    {
      "cell_type": "code",
      "metadata": {
        "id": "oTjIfnFTW1JN",
        "outputId": "e7274924-c809-47cd-82bf-7778c6f1726e",
        "colab": {
          "base_uri": "https://localhost:8080/",
          "height": 490
        }
      },
      "source": [
        "# Create the vine_table. DataFrame\n",
        "temp_df = df.select([\"review_id\", \"helpful_votes\", \"total_votes\", \"vine\", \"verified_purchase\", df[\"star_rating\"].cast(IntegerType())])\n",
        "vine_df = temp_df.select([\"review_id\", \"star_rating\", \"helpful_votes\", \"total_votes\", \"vine\", \"verified_purchase\"])\n",
        "vine_df.show()"
      ],
      "execution_count": null,
      "outputs": [
        {
          "output_type": "stream",
          "text": [
            "+--------------+-----------+-------------+-----------+----+-----------------+\n",
            "|     review_id|star_rating|helpful_votes|total_votes|vine|verified_purchase|\n",
            "+--------------+-----------+-------------+-----------+----+-----------------+\n",
            "|R3W4P9UBGNGH1U|          2|            1|          3|   N|                Y|\n",
            "|R15V54KBMTQWAY|          4|            0|          0|   N|                N|\n",
            "| RY8I449HNXSVF|          5|            0|          0|   N|                Y|\n",
            "|R18TLJYCKJFLSR|          5|            0|          0|   N|                Y|\n",
            "|R1NK26SWS53B8Q|          5|            0|          0|   N|                Y|\n",
            "|R11LOHEDYJALTN|          5|            0|          0|   N|                Y|\n",
            "|R3ALQVQB2P9LA7|          4|            0|          0|   N|                Y|\n",
            "|R3MWLXLNO21PDQ|          5|            0|          0|   N|                Y|\n",
            "|R2L15IS24CX0LI|          5|            0|          0|   N|                Y|\n",
            "|R1DJ8976WPWVZU|          3|            0|          0|   N|                Y|\n",
            "|R3MRWNNR8CBTB7|          5|            0|          0|   N|                Y|\n",
            "|R1DS6DKTUXAQK3|          5|            0|          0|   N|                Y|\n",
            "| RWJM5E0TWUJD2|          5|            0|          0|   N|                Y|\n",
            "|R1XTJKDYNCRGAC|          1|            0|          0|   N|                Y|\n",
            "|R2UZL3DPWEU1XW|          5|            0|          0|   N|                Y|\n",
            "|R2EZXET9KBFFU3|          1|            0|          0|   N|                Y|\n",
            "|R26VY1L1FD3LPU|          5|            0|          0|   N|                Y|\n",
            "|R2SSA4NSFCV18T|          5|            0|          0|   N|                N|\n",
            "|R1G6333JHJNEUQ|          5|            0|          0|   N|                Y|\n",
            "|R2DRG0UZXJQ0PE|          5|            0|          0|   N|                Y|\n",
            "+--------------+-----------+-------------+-----------+----+-----------------+\n",
            "only showing top 20 rows\n",
            "\n"
          ],
          "name": "stdout"
        }
      ]
    },
    {
      "cell_type": "code",
      "metadata": {
        "id": "6F_ERM2YW-y6"
      },
      "source": [
        "#filter to only show where total votes are 20 or greater\n",
        "temp_df = vine_df\n",
        "total_votes_df = temp_df.filter(\"total_votes > 19\")"
      ],
      "execution_count": null,
      "outputs": []
    },
    {
      "cell_type": "code",
      "metadata": {
        "id": "7xt15WeWXAPk",
        "outputId": "2bceced2-d405-4484-d425-4f7d4b399704",
        "colab": {
          "base_uri": "https://localhost:8080/",
          "height": 126
        }
      },
      "source": [
        "total_votes_count = total_votes_df.agg({\"total_votes\": \"count\"}).show()"
      ],
      "execution_count": null,
      "outputs": [
        {
          "output_type": "stream",
          "text": [
            "+------------------+\n",
            "|count(total_votes)|\n",
            "+------------------+\n",
            "|             72587|\n",
            "+------------------+\n",
            "\n"
          ],
          "name": "stdout"
        }
      ]
    },
    {
      "cell_type": "code",
      "metadata": {
        "id": "cr2DTdKNXGNj"
      },
      "source": [
        "temp1_df = total_votes_df"
      ],
      "execution_count": null,
      "outputs": []
    },
    {
      "cell_type": "code",
      "metadata": {
        "id": "w77oqiuqXJ8p",
        "outputId": "3f7dcd1d-111f-47b0-fe62-d4e151a4faad",
        "colab": {
          "base_uri": "https://localhost:8080/",
          "height": 490
        }
      },
      "source": [
        "# Fitler to show only where helpful vvotes divided by total votes, times 100, the percentage is greater then 50%\n",
        "temp2_df = temp1_df.withColumn(\"helpful_votes_percentage_plus50\", temp1_df[\"helpful_votes\"] / temp1_df[\"total_votes\"])\n",
        "#temp2_df.show()\n",
        "votes_greater50_df = temp2_df.filter(\"helpful_votes_percentage_plus50 >.5\")\n",
        "votes_greater50_df.show()"
      ],
      "execution_count": null,
      "outputs": [
        {
          "output_type": "stream",
          "text": [
            "+--------------+-----------+-------------+-----------+----+-----------------+-------------------------------+\n",
            "|     review_id|star_rating|helpful_votes|total_votes|vine|verified_purchase|helpful_votes_percentage_plus50|\n",
            "+--------------+-----------+-------------+-----------+----+-----------------+-------------------------------+\n",
            "|R2WOW0TURNXB26|          3|           54|         59|   N|                Y|             0.9152542372881356|\n",
            "|R13VL62Y2HBQ0B|          5|           15|         21|   N|                Y|             0.7142857142857143|\n",
            "|R22G55KAPZKJQV|          4|           20|         21|   N|                Y|             0.9523809523809523|\n",
            "|R1610PGTJS7G3N|          2|           28|         44|   N|                Y|             0.6363636363636364|\n",
            "| RLQL04BL0QXOJ|          4|           45|         47|   N|                Y|             0.9574468085106383|\n",
            "|R2AYJHH8WJNGAU|          4|           98|        104|   N|                Y|             0.9423076923076923|\n",
            "|R111DJA10Y6CMU|          5|           26|         39|   N|                Y|             0.6666666666666666|\n",
            "|R2EE2TR4MRDV0U|          5|           53|         59|   N|                Y|             0.8983050847457628|\n",
            "| RD4A80I5JDHED|          5|           69|         77|   N|                N|             0.8961038961038961|\n",
            "|R1GU6IYZQWQE8X|          2|           24|         25|   N|                Y|                           0.96|\n",
            "| RZOPM62JMW97V|          2|          103|        108|   N|                Y|             0.9537037037037037|\n",
            "|R1D3NR5GREEXXJ|          5|           57|         58|   N|                Y|             0.9827586206896551|\n",
            "|R24BMEHX5EWGEY|          2|           26|         30|   N|                Y|             0.8666666666666667|\n",
            "|R2WYKBQS8OR08O|          5|          168|        176|   N|                Y|             0.9545454545454546|\n",
            "|R3DL0Y1KWYLD5X|          5|           36|         37|   N|                Y|              0.972972972972973|\n",
            "|R3EGDTFDMCOOG4|          5|           74|         90|   N|                N|             0.8222222222222222|\n",
            "|R1MC93W6WG9R3O|          1|           22|         22|   N|                Y|                            1.0|\n",
            "|R35B0B69DYR54L|          1|           18|         22|   N|                Y|             0.8181818181818182|\n",
            "|R1593EM56412NH|          4|           33|         37|   N|                Y|             0.8918918918918919|\n",
            "|R1KEP1DUJK2LD5|          5|           34|         42|   N|                Y|             0.8095238095238095|\n",
            "+--------------+-----------+-------------+-----------+----+-----------------+-------------------------------+\n",
            "only showing top 20 rows\n",
            "\n"
          ],
          "name": "stdout"
        }
      ]
    },
    {
      "cell_type": "code",
      "metadata": {
        "id": "ZrDJBo6FXS3b",
        "outputId": "65bcfe0c-3b9c-4140-8506-b4fe21c8c3ac",
        "colab": {
          "base_uri": "https://localhost:8080/",
          "height": 235
        }
      },
      "source": [
        "votes_greater50_sum_df = votes_greater50_df.agg({\"total_votes\": \"sum\"}).withColumnRenamed(\"sum(total_votes)\", \"sum_total_votes\").show()\n",
        "votes_greater50_count_df = votes_greater50_df.agg({\"total_votes\": \"count\"}).withColumnRenamed(\"count(total_votes)\", \"count_total_votes\").show()"
      ],
      "execution_count": null,
      "outputs": [
        {
          "output_type": "stream",
          "text": [
            "+---------------+\n",
            "|sum_total_votes|\n",
            "+---------------+\n",
            "|        4150202|\n",
            "+---------------+\n",
            "\n",
            "+-----------------+\n",
            "|count_total_votes|\n",
            "+-----------------+\n",
            "|            65384|\n",
            "+-----------------+\n",
            "\n"
          ],
          "name": "stdout"
        }
      ]
    },
    {
      "cell_type": "code",
      "metadata": {
        "id": "MSG_ghQdW8pr"
      },
      "source": [
        "import pyspark.sql.functions as fn\n",
        "#votes_greater50_df = votes_greater50_df.crossJoin(votes_greater50_df.groupby().agg(fn.count('total_votes').alias('overall_count')))\n",
        "#votes_greater50_df.show()"
      ],
      "execution_count": null,
      "outputs": []
    },
    {
      "cell_type": "code",
      "metadata": {
        "id": "YWN_CXqZXTnx",
        "outputId": "e43fdcba-6a58-413c-bbe1-5a0aa3fc0f68",
        "colab": {
          "base_uri": "https://localhost:8080/",
          "height": 490
        }
      },
      "source": [
        "# Filter to create a vine only df\n",
        "vine_only_df = votes_greater50_df.filter(\"vine == 'Y'\")\n",
        "vine_only_df.show()"
      ],
      "execution_count": null,
      "outputs": [
        {
          "output_type": "stream",
          "text": [
            "+--------------+-----------+-------------+-----------+----+-----------------+-------------------------------+\n",
            "|     review_id|star_rating|helpful_votes|total_votes|vine|verified_purchase|helpful_votes_percentage_plus50|\n",
            "+--------------+-----------+-------------+-----------+----+-----------------+-------------------------------+\n",
            "|R1MAOLI5FJHAFM|          4|          249|        261|   Y|                N|             0.9540229885057471|\n",
            "| R9PYAUDIBJVEC|          4|           12|         22|   Y|                N|             0.5454545454545454|\n",
            "| R6V9SHMMG5M8F|          5|          101|        110|   Y|                N|             0.9181818181818182|\n",
            "|R37PVLT6ELL5J4|          4|          181|        209|   Y|                N|             0.8660287081339713|\n",
            "| R2FSFGWZF24V9|          4|           50|         51|   Y|                N|             0.9803921568627451|\n",
            "|R3SRW1E8J56IGV|          5|          262|        281|   Y|                N|             0.9323843416370107|\n",
            "| R86Z11D4CWOFM|          4|           32|         36|   Y|                N|             0.8888888888888888|\n",
            "| RNP01HW9YISJO|          4|           20|         23|   Y|                N|             0.8695652173913043|\n",
            "|R3KLACA6LCDZ0S|          3|           21|         22|   Y|                N|             0.9545454545454546|\n",
            "| RZEQYOT2RE0N7|          4|           75|         80|   Y|                N|                         0.9375|\n",
            "|R2WBPX441TH495|          5|          202|        221|   Y|                N|             0.9140271493212669|\n",
            "|R2BYBSYHS66ZN8|          5|          109|        114|   Y|                N|              0.956140350877193|\n",
            "|R3IF59PJGCNU3Q|          4|           42|         54|   Y|                N|             0.7777777777777778|\n",
            "|R2IXC6U7W4OCQ9|          5|          185|        201|   Y|                N|             0.9203980099502488|\n",
            "|R1JEI3H9QRP6PH|          5|           15|         22|   Y|                N|             0.6818181818181818|\n",
            "|R37L3KGRRR6JTL|          3|           38|         47|   Y|                N|             0.8085106382978723|\n",
            "|R1YJ7OKAEML92P|          5|           20|         22|   Y|                N|             0.9090909090909091|\n",
            "|R3JZJOD2512UVY|          4|           85|        101|   Y|                N|             0.8415841584158416|\n",
            "|R38MY3TK17MXDH|          4|           25|         32|   Y|                N|                        0.78125|\n",
            "|R2LWISZ4DSM0I4|          5|           28|         33|   Y|                N|             0.8484848484848485|\n",
            "+--------------+-----------+-------------+-----------+----+-----------------+-------------------------------+\n",
            "only showing top 20 rows\n",
            "\n"
          ],
          "name": "stdout"
        }
      ]
    },
    {
      "cell_type": "code",
      "metadata": {
        "id": "vYLbGux6Yhki",
        "outputId": "bca588df-1e93-4d85-b9a1-1950dfa45132",
        "colab": {
          "base_uri": "https://localhost:8080/",
          "height": 490
        }
      },
      "source": [
        "#Get count of vine only total votes\n",
        "import pyspark.sql.functions as fn\n",
        "vine_only_df = vine_only_df.crossJoin(vine_only_df.groupby().agg(fn.count('total_votes').alias('vine_overall_count')))\n",
        "vine_only_df.show()"
      ],
      "execution_count": null,
      "outputs": [
        {
          "output_type": "stream",
          "text": [
            "+--------------+-----------+-------------+-----------+----+-----------------+-------------------------------+------------------+\n",
            "|     review_id|star_rating|helpful_votes|total_votes|vine|verified_purchase|helpful_votes_percentage_plus50|vine_overall_count|\n",
            "+--------------+-----------+-------------+-----------+----+-----------------+-------------------------------+------------------+\n",
            "|R1MAOLI5FJHAFM|          4|          249|        261|   Y|                N|             0.9540229885057471|               613|\n",
            "| R9PYAUDIBJVEC|          4|           12|         22|   Y|                N|             0.5454545454545454|               613|\n",
            "| R6V9SHMMG5M8F|          5|          101|        110|   Y|                N|             0.9181818181818182|               613|\n",
            "|R37PVLT6ELL5J4|          4|          181|        209|   Y|                N|             0.8660287081339713|               613|\n",
            "| R2FSFGWZF24V9|          4|           50|         51|   Y|                N|             0.9803921568627451|               613|\n",
            "|R3SRW1E8J56IGV|          5|          262|        281|   Y|                N|             0.9323843416370107|               613|\n",
            "| R86Z11D4CWOFM|          4|           32|         36|   Y|                N|             0.8888888888888888|               613|\n",
            "| RNP01HW9YISJO|          4|           20|         23|   Y|                N|             0.8695652173913043|               613|\n",
            "|R3KLACA6LCDZ0S|          3|           21|         22|   Y|                N|             0.9545454545454546|               613|\n",
            "| RZEQYOT2RE0N7|          4|           75|         80|   Y|                N|                         0.9375|               613|\n",
            "|R2WBPX441TH495|          5|          202|        221|   Y|                N|             0.9140271493212669|               613|\n",
            "|R2BYBSYHS66ZN8|          5|          109|        114|   Y|                N|              0.956140350877193|               613|\n",
            "|R3IF59PJGCNU3Q|          4|           42|         54|   Y|                N|             0.7777777777777778|               613|\n",
            "|R2IXC6U7W4OCQ9|          5|          185|        201|   Y|                N|             0.9203980099502488|               613|\n",
            "|R1JEI3H9QRP6PH|          5|           15|         22|   Y|                N|             0.6818181818181818|               613|\n",
            "|R37L3KGRRR6JTL|          3|           38|         47|   Y|                N|             0.8085106382978723|               613|\n",
            "|R1YJ7OKAEML92P|          5|           20|         22|   Y|                N|             0.9090909090909091|               613|\n",
            "|R3JZJOD2512UVY|          4|           85|        101|   Y|                N|             0.8415841584158416|               613|\n",
            "|R38MY3TK17MXDH|          4|           25|         32|   Y|                N|                        0.78125|               613|\n",
            "|R2LWISZ4DSM0I4|          5|           28|         33|   Y|                N|             0.8484848484848485|               613|\n",
            "+--------------+-----------+-------------+-----------+----+-----------------+-------------------------------+------------------+\n",
            "only showing top 20 rows\n",
            "\n"
          ],
          "name": "stdout"
        }
      ]
    },
    {
      "cell_type": "code",
      "metadata": {
        "id": "mRiz8JlcXZUt",
        "outputId": "5f16efba-a67d-4149-a1a0-41cbc37e25af",
        "colab": {
          "base_uri": "https://localhost:8080/",
          "height": 126
        }
      },
      "source": [
        "vine_only_count_df = vine_only_df.agg({\"total_votes\": \"count\"}).withColumnRenamed(\"count(total_votes)\", \"count_vine_total_votes\")\n",
        "vine_only_count_df.show()"
      ],
      "execution_count": null,
      "outputs": [
        {
          "output_type": "stream",
          "text": [
            "+----------------------+\n",
            "|count_vine_total_votes|\n",
            "+----------------------+\n",
            "|                   613|\n",
            "+----------------------+\n",
            "\n"
          ],
          "name": "stdout"
        }
      ]
    },
    {
      "cell_type": "code",
      "metadata": {
        "id": "61aAnym6d_L0",
        "outputId": "7065aeb6-ff38-4c12-9f8e-0c1f3a7e12bb",
        "colab": {
          "base_uri": "https://localhost:8080/",
          "height": 199
        }
      },
      "source": [
        "# Shows votes grouped by star rating\n",
        "vine_only_count_df = vine_only_df.groupby('star_rating').agg({\"total_votes\": \"count\"}).withColumnRenamed(\"count(total_votes)\", \"count_vine_total_votes\")\n",
        "vine_only_count_df.show()"
      ],
      "execution_count": null,
      "outputs": [
        {
          "output_type": "stream",
          "text": [
            "+-----------+----------------------+\n",
            "|star_rating|count_vine_total_votes|\n",
            "+-----------+----------------------+\n",
            "|          1|                    23|\n",
            "|          3|                   117|\n",
            "|          5|                   222|\n",
            "|          4|                   205|\n",
            "|          2|                    46|\n",
            "+-----------+----------------------+\n",
            "\n"
          ],
          "name": "stdout"
        }
      ]
    },
    {
      "cell_type": "code",
      "metadata": {
        "id": "XmzhGnvhiVIb",
        "outputId": "feef4435-8d2f-417c-d08a-de7f036874eb",
        "colab": {
          "base_uri": "https://localhost:8080/",
          "height": 490
        }
      },
      "source": [
        "#Create 5 star only, vine only, df\n",
        "vine_only_fivestar_only_df = vine_only_df.filter('star_rating == \"5\"')\n",
        "vine_only_fivestar_only_df.show()"
      ],
      "execution_count": null,
      "outputs": [
        {
          "output_type": "stream",
          "text": [
            "+--------------+-----------+-------------+-----------+----+-----------------+-------------------------------+------------------+\n",
            "|     review_id|star_rating|helpful_votes|total_votes|vine|verified_purchase|helpful_votes_percentage_plus50|vine_overall_count|\n",
            "+--------------+-----------+-------------+-----------+----+-----------------+-------------------------------+------------------+\n",
            "| R6V9SHMMG5M8F|          5|          101|        110|   Y|                N|             0.9181818181818182|               613|\n",
            "|R3SRW1E8J56IGV|          5|          262|        281|   Y|                N|             0.9323843416370107|               613|\n",
            "|R2WBPX441TH495|          5|          202|        221|   Y|                N|             0.9140271493212669|               613|\n",
            "|R2BYBSYHS66ZN8|          5|          109|        114|   Y|                N|              0.956140350877193|               613|\n",
            "|R2IXC6U7W4OCQ9|          5|          185|        201|   Y|                N|             0.9203980099502488|               613|\n",
            "|R1JEI3H9QRP6PH|          5|           15|         22|   Y|                N|             0.6818181818181818|               613|\n",
            "|R1YJ7OKAEML92P|          5|           20|         22|   Y|                N|             0.9090909090909091|               613|\n",
            "|R2LWISZ4DSM0I4|          5|           28|         33|   Y|                N|             0.8484848484848485|               613|\n",
            "| RG10LRMYVLHNR|          5|          167|        171|   Y|                N|             0.9766081871345029|               613|\n",
            "|R2MXU454V4UVLM|          5|           16|         25|   Y|                N|                           0.64|               613|\n",
            "|R3QJWOT3FXGQ96|          5|           31|         32|   Y|                N|                        0.96875|               613|\n",
            "|R1HH9DAAK8PKUR|          5|          168|        189|   Y|                N|             0.8888888888888888|               613|\n",
            "|R1WCUIM9G6NRRZ|          5|           81|         89|   Y|                N|             0.9101123595505618|               613|\n",
            "|R3VWP0J1XIKDAZ|          5|           55|         65|   Y|                N|             0.8461538461538461|               613|\n",
            "|R1PPQOBDEH8ZRD|          5|           60|         72|   Y|                N|             0.8333333333333334|               613|\n",
            "|R1SOU7ZZ71YNNX|          5|           16|         21|   Y|                N|             0.7619047619047619|               613|\n",
            "|  RNWG17CSYY5P|          5|           19|         23|   Y|                N|             0.8260869565217391|               613|\n",
            "|R16LC6N5QO7MH3|          5|          126|        136|   Y|                N|             0.9264705882352942|               613|\n",
            "|R1TFK2OG18H5ZG|          5|           18|         23|   Y|                N|              0.782608695652174|               613|\n",
            "|R1JBJTW7A20C1A|          5|           32|         41|   Y|                N|             0.7804878048780488|               613|\n",
            "+--------------+-----------+-------------+-----------+----+-----------------+-------------------------------+------------------+\n",
            "only showing top 20 rows\n",
            "\n"
          ],
          "name": "stdout"
        }
      ]
    },
    {
      "cell_type": "code",
      "metadata": {
        "id": "1cLYlLJ3iuIy",
        "outputId": "04c6aef3-484f-4e5f-ef2f-1c4307b06a1a",
        "colab": {
          "base_uri": "https://localhost:8080/",
          "height": 126
        }
      },
      "source": [
        "vine_only_fivestar_only_df = vine_only_fivestar_only_df.groupby().agg({\"total_votes\": \"count\"}).withColumnRenamed(\"count(total_votes)\", \"count_five_star_total_votes\")\n",
        "vine_only_fivestar_only_df.show()"
      ],
      "execution_count": null,
      "outputs": [
        {
          "output_type": "stream",
          "text": [
            "+---------------------------+\n",
            "|count_five_star_total_votes|\n",
            "+---------------------------+\n",
            "|                        222|\n",
            "+---------------------------+\n",
            "\n"
          ],
          "name": "stdout"
        }
      ]
    },
    {
      "cell_type": "code",
      "metadata": {
        "id": "y-1uA3LJnY4A",
        "outputId": "8a600783-1553-4108-c592-6eb41258edf1",
        "colab": {
          "base_uri": "https://localhost:8080/",
          "height": 126
        }
      },
      "source": [
        "vine_only_fivestar_only2_df = vine_only_fivestar_only_df.crossJoin(vine_only_df.groupby().agg(fn.count('total_votes').alias('vine_five_star_count')))\n",
        "vine_only_fivestar_only2_df.show()"
      ],
      "execution_count": null,
      "outputs": [
        {
          "output_type": "stream",
          "text": [
            "+---------------------------+--------------------+\n",
            "|count_five_star_total_votes|vine_five_star_count|\n",
            "+---------------------------+--------------------+\n",
            "|                        222|                 613|\n",
            "+---------------------------+--------------------+\n",
            "\n"
          ],
          "name": "stdout"
        }
      ]
    },
    {
      "cell_type": "code",
      "metadata": {
        "id": "snepy3HMZpeL",
        "outputId": "c872a09a-88d9-4435-dafd-5c60c448d1cb",
        "colab": {
          "base_uri": "https://localhost:8080/",
          "height": 126
        }
      },
      "source": [
        "#Calculate percentage of vine 5 star votes/reviews against total vine reviews\n",
        "percentage_vinetototal_df = vine_only_fivestar_only2_df.withColumn(\"vine_percentage\", vine_only_fivestar_only2_df[\"count_five_star_total_votes\"] *100/ vine_only_fivestar_only2_df[\"vine_five_star_count\"])\n",
        "percentage_vinetototal_df.show()\n"
      ],
      "execution_count": null,
      "outputs": [
        {
          "output_type": "stream",
          "text": [
            "+---------------------------+--------------------+------------------+\n",
            "|count_five_star_total_votes|vine_five_star_count|   vine_percentage|\n",
            "+---------------------------+--------------------+------------------+\n",
            "|                        222|                 613|36.215334420880914|\n",
            "+---------------------------+--------------------+------------------+\n",
            "\n"
          ],
          "name": "stdout"
        }
      ]
    },
    {
      "cell_type": "code",
      "metadata": {
        "id": "TDyfb1r8XiYS",
        "outputId": "07d26fc2-53b5-4a09-f13a-acb6ef625c02",
        "colab": {
          "base_uri": "https://localhost:8080/",
          "height": 490
        }
      },
      "source": [
        "# create a non-vine review df\n",
        "notvine_only_df = votes_greater50_df.filter(\"vine == 'N'\")\n",
        "notvine_only_df.show()"
      ],
      "execution_count": null,
      "outputs": [
        {
          "output_type": "stream",
          "text": [
            "+--------------+-----------+-------------+-----------+----+-----------------+-------------------------------+\n",
            "|     review_id|star_rating|helpful_votes|total_votes|vine|verified_purchase|helpful_votes_percentage_plus50|\n",
            "+--------------+-----------+-------------+-----------+----+-----------------+-------------------------------+\n",
            "|R2WOW0TURNXB26|          3|           54|         59|   N|                Y|             0.9152542372881356|\n",
            "|R13VL62Y2HBQ0B|          5|           15|         21|   N|                Y|             0.7142857142857143|\n",
            "|R22G55KAPZKJQV|          4|           20|         21|   N|                Y|             0.9523809523809523|\n",
            "|R1610PGTJS7G3N|          2|           28|         44|   N|                Y|             0.6363636363636364|\n",
            "| RLQL04BL0QXOJ|          4|           45|         47|   N|                Y|             0.9574468085106383|\n",
            "|R2AYJHH8WJNGAU|          4|           98|        104|   N|                Y|             0.9423076923076923|\n",
            "|R111DJA10Y6CMU|          5|           26|         39|   N|                Y|             0.6666666666666666|\n",
            "|R2EE2TR4MRDV0U|          5|           53|         59|   N|                Y|             0.8983050847457628|\n",
            "| RD4A80I5JDHED|          5|           69|         77|   N|                N|             0.8961038961038961|\n",
            "|R1GU6IYZQWQE8X|          2|           24|         25|   N|                Y|                           0.96|\n",
            "| RZOPM62JMW97V|          2|          103|        108|   N|                Y|             0.9537037037037037|\n",
            "|R1D3NR5GREEXXJ|          5|           57|         58|   N|                Y|             0.9827586206896551|\n",
            "|R24BMEHX5EWGEY|          2|           26|         30|   N|                Y|             0.8666666666666667|\n",
            "|R2WYKBQS8OR08O|          5|          168|        176|   N|                Y|             0.9545454545454546|\n",
            "|R3DL0Y1KWYLD5X|          5|           36|         37|   N|                Y|              0.972972972972973|\n",
            "|R3EGDTFDMCOOG4|          5|           74|         90|   N|                N|             0.8222222222222222|\n",
            "|R1MC93W6WG9R3O|          1|           22|         22|   N|                Y|                            1.0|\n",
            "|R35B0B69DYR54L|          1|           18|         22|   N|                Y|             0.8181818181818182|\n",
            "|R1593EM56412NH|          4|           33|         37|   N|                Y|             0.8918918918918919|\n",
            "|R1KEP1DUJK2LD5|          5|           34|         42|   N|                Y|             0.8095238095238095|\n",
            "+--------------+-----------+-------------+-----------+----+-----------------+-------------------------------+\n",
            "only showing top 20 rows\n",
            "\n"
          ],
          "name": "stdout"
        }
      ]
    },
    {
      "cell_type": "code",
      "metadata": {
        "id": "4l8rCjjNXnFE",
        "outputId": "1ba24bfe-7039-4694-a312-27c2f76bdec7",
        "colab": {
          "base_uri": "https://localhost:8080/",
          "height": 126
        }
      },
      "source": [
        "notvine_only_count_df = notvine_only_df.agg({\"total_votes\": \"count\"}).withColumnRenamed(\"count(total_votes)\", \"count_not_vine_total_votes\").show()"
      ],
      "execution_count": null,
      "outputs": [
        {
          "output_type": "stream",
          "text": [
            "+--------------------------+\n",
            "|count_not_vine_total_votes|\n",
            "+--------------------------+\n",
            "|                     64771|\n",
            "+--------------------------+\n",
            "\n"
          ],
          "name": "stdout"
        }
      ]
    },
    {
      "cell_type": "code",
      "metadata": {
        "id": "Mk4M6jB-u-jd",
        "outputId": "5ea0e2a4-50f2-40eb-dccf-b87a930aadea",
        "colab": {
          "base_uri": "https://localhost:8080/",
          "height": 490
        }
      },
      "source": [
        "notvine_only_df = notvine_only_df.crossJoin(notvine_only_df.groupby().agg(fn.count('total_votes').alias('notvine_overall_count')))\n",
        "notvine_only_df.show()"
      ],
      "execution_count": null,
      "outputs": [
        {
          "output_type": "stream",
          "text": [
            "+--------------+-----------+-------------+-----------+----+-----------------+-------------------------------+---------------------+\n",
            "|     review_id|star_rating|helpful_votes|total_votes|vine|verified_purchase|helpful_votes_percentage_plus50|notvine_overall_count|\n",
            "+--------------+-----------+-------------+-----------+----+-----------------+-------------------------------+---------------------+\n",
            "|R2WOW0TURNXB26|          3|           54|         59|   N|                Y|             0.9152542372881356|                64771|\n",
            "|R13VL62Y2HBQ0B|          5|           15|         21|   N|                Y|             0.7142857142857143|                64771|\n",
            "|R22G55KAPZKJQV|          4|           20|         21|   N|                Y|             0.9523809523809523|                64771|\n",
            "|R1610PGTJS7G3N|          2|           28|         44|   N|                Y|             0.6363636363636364|                64771|\n",
            "| RLQL04BL0QXOJ|          4|           45|         47|   N|                Y|             0.9574468085106383|                64771|\n",
            "|R2AYJHH8WJNGAU|          4|           98|        104|   N|                Y|             0.9423076923076923|                64771|\n",
            "|R111DJA10Y6CMU|          5|           26|         39|   N|                Y|             0.6666666666666666|                64771|\n",
            "|R2EE2TR4MRDV0U|          5|           53|         59|   N|                Y|             0.8983050847457628|                64771|\n",
            "| RD4A80I5JDHED|          5|           69|         77|   N|                N|             0.8961038961038961|                64771|\n",
            "|R1GU6IYZQWQE8X|          2|           24|         25|   N|                Y|                           0.96|                64771|\n",
            "| RZOPM62JMW97V|          2|          103|        108|   N|                Y|             0.9537037037037037|                64771|\n",
            "|R1D3NR5GREEXXJ|          5|           57|         58|   N|                Y|             0.9827586206896551|                64771|\n",
            "|R24BMEHX5EWGEY|          2|           26|         30|   N|                Y|             0.8666666666666667|                64771|\n",
            "|R2WYKBQS8OR08O|          5|          168|        176|   N|                Y|             0.9545454545454546|                64771|\n",
            "|R3DL0Y1KWYLD5X|          5|           36|         37|   N|                Y|              0.972972972972973|                64771|\n",
            "|R3EGDTFDMCOOG4|          5|           74|         90|   N|                N|             0.8222222222222222|                64771|\n",
            "|R1MC93W6WG9R3O|          1|           22|         22|   N|                Y|                            1.0|                64771|\n",
            "|R35B0B69DYR54L|          1|           18|         22|   N|                Y|             0.8181818181818182|                64771|\n",
            "|R1593EM56412NH|          4|           33|         37|   N|                Y|             0.8918918918918919|                64771|\n",
            "|R1KEP1DUJK2LD5|          5|           34|         42|   N|                Y|             0.8095238095238095|                64771|\n",
            "+--------------+-----------+-------------+-----------+----+-----------------+-------------------------------+---------------------+\n",
            "only showing top 20 rows\n",
            "\n"
          ],
          "name": "stdout"
        }
      ]
    },
    {
      "cell_type": "code",
      "metadata": {
        "id": "5T-oI101vXF6",
        "outputId": "fed143f1-ed23-47ba-ad64-8371067aefaf",
        "colab": {
          "base_uri": "https://localhost:8080/",
          "height": 126
        }
      },
      "source": [
        "notvine_only_count_df = notvine_only_df.agg({\"total_votes\": \"count\"}).withColumnRenamed(\"count(total_votes)\", \"count_notvine_total_votes\")\n",
        "notvine_only_count_df.show()"
      ],
      "execution_count": null,
      "outputs": [
        {
          "output_type": "stream",
          "text": [
            "+-------------------------+\n",
            "|count_notvine_total_votes|\n",
            "+-------------------------+\n",
            "|                    64771|\n",
            "+-------------------------+\n",
            "\n"
          ],
          "name": "stdout"
        }
      ]
    },
    {
      "cell_type": "code",
      "metadata": {
        "id": "VtsCNnJYvjqi",
        "outputId": "b1547b7b-63f4-4e44-8799-3639556a350e",
        "colab": {
          "base_uri": "https://localhost:8080/",
          "height": 199
        }
      },
      "source": [
        "# group by star rating to show non-vine 5 star rating count\n",
        "notvine_only_count_df = notvine_only_df.groupby('star_rating').agg({\"total_votes\": \"count\"}).withColumnRenamed(\"count(total_votes)\", \"count_notvine_total_votes\")\n",
        "notvine_only_count_df.show()"
      ],
      "execution_count": null,
      "outputs": [
        {
          "output_type": "stream",
          "text": [
            "+-----------+-------------------------+\n",
            "|star_rating|count_notvine_total_votes|\n",
            "+-----------+-------------------------+\n",
            "|          1|                    13932|\n",
            "|          3|                     5684|\n",
            "|          5|                    30523|\n",
            "|          4|                    10491|\n",
            "|          2|                     4141|\n",
            "+-----------+-------------------------+\n",
            "\n"
          ],
          "name": "stdout"
        }
      ]
    },
    {
      "cell_type": "code",
      "metadata": {
        "id": "nq-69BphvwRx",
        "outputId": "1d927049-7122-4bd5-9e4f-0777659df339",
        "colab": {
          "base_uri": "https://localhost:8080/",
          "height": 490
        }
      },
      "source": [
        "# Create a non-vine 5 star only df\n",
        "notvine_only_fivestar_only_df = notvine_only_df.filter('star_rating == \"5\"')\n",
        "notvine_only_fivestar_only_df.show()"
      ],
      "execution_count": null,
      "outputs": [
        {
          "output_type": "stream",
          "text": [
            "+--------------+-----------+-------------+-----------+----+-----------------+-------------------------------+---------------------+\n",
            "|     review_id|star_rating|helpful_votes|total_votes|vine|verified_purchase|helpful_votes_percentage_plus50|notvine_overall_count|\n",
            "+--------------+-----------+-------------+-----------+----+-----------------+-------------------------------+---------------------+\n",
            "|R13VL62Y2HBQ0B|          5|           15|         21|   N|                Y|             0.7142857142857143|                64771|\n",
            "|R111DJA10Y6CMU|          5|           26|         39|   N|                Y|             0.6666666666666666|                64771|\n",
            "|R2EE2TR4MRDV0U|          5|           53|         59|   N|                Y|             0.8983050847457628|                64771|\n",
            "| RD4A80I5JDHED|          5|           69|         77|   N|                N|             0.8961038961038961|                64771|\n",
            "|R1D3NR5GREEXXJ|          5|           57|         58|   N|                Y|             0.9827586206896551|                64771|\n",
            "|R2WYKBQS8OR08O|          5|          168|        176|   N|                Y|             0.9545454545454546|                64771|\n",
            "|R3DL0Y1KWYLD5X|          5|           36|         37|   N|                Y|              0.972972972972973|                64771|\n",
            "|R3EGDTFDMCOOG4|          5|           74|         90|   N|                N|             0.8222222222222222|                64771|\n",
            "|R1KEP1DUJK2LD5|          5|           34|         42|   N|                Y|             0.8095238095238095|                64771|\n",
            "| R6IEQ9100RX0O|          5|           49|         57|   N|                Y|             0.8596491228070176|                64771|\n",
            "|R2X6SBELMJP4PH|          5|           27|         34|   N|                N|             0.7941176470588235|                64771|\n",
            "|R1SFITLRSE3K7T|          5|           20|         23|   N|                Y|             0.8695652173913043|                64771|\n",
            "|R1EZ878XMIT67K|          5|           29|         35|   N|                N|             0.8285714285714286|                64771|\n",
            "|R359PHUFU7ZTXV|          5|           68|         72|   N|                N|             0.9444444444444444|                64771|\n",
            "|R1H2OA4AKOW67K|          5|           26|         29|   N|                N|              0.896551724137931|                64771|\n",
            "|R3VM9PM5RHZW3C|          5|           93|         98|   N|                Y|             0.9489795918367347|                64771|\n",
            "|R1RNG6Q1ZQDX7Q|          5|           76|         86|   N|                N|             0.8837209302325582|                64771|\n",
            "|R1C1KRLWE6YJMY|          5|           49|         51|   N|                Y|             0.9607843137254902|                64771|\n",
            "| RMAAUEPV7VC18|          5|           22|         30|   N|                N|             0.7333333333333333|                64771|\n",
            "|R1QE0XSV1EKPLC|          5|           22|         26|   N|                Y|             0.8461538461538461|                64771|\n",
            "+--------------+-----------+-------------+-----------+----+-----------------+-------------------------------+---------------------+\n",
            "only showing top 20 rows\n",
            "\n"
          ],
          "name": "stdout"
        }
      ]
    },
    {
      "cell_type": "code",
      "metadata": {
        "id": "zDh0r-gzzIE5",
        "outputId": "26640878-423a-41bd-92f1-f8033cb2cbe6",
        "colab": {
          "base_uri": "https://localhost:8080/",
          "height": 126
        }
      },
      "source": [
        "notvine_only_fivestar_only_df = notvine_only_fivestar_only_df.groupby().agg({\"total_votes\": \"count\"}).withColumnRenamed(\"count(total_votes)\", \"count_five_star_total_votes\")\n",
        "notvine_only_fivestar_only_df.show()"
      ],
      "execution_count": null,
      "outputs": [
        {
          "output_type": "stream",
          "text": [
            "+---------------------------+\n",
            "|count_five_star_total_votes|\n",
            "+---------------------------+\n",
            "|                      30523|\n",
            "+---------------------------+\n",
            "\n"
          ],
          "name": "stdout"
        }
      ]
    },
    {
      "cell_type": "code",
      "metadata": {
        "id": "H2WHbEROvwba",
        "outputId": "fcb8b4b3-bd8b-45df-e3c2-368fb1ca10c4",
        "colab": {
          "base_uri": "https://localhost:8080/",
          "height": 126
        }
      },
      "source": [
        "notvine_only_fivestar_only2_df = notvine_only_fivestar_only_df.crossJoin(notvine_only_df.groupby().agg(fn.count('total_votes').alias('notvine_five_star_count')))\n",
        "notvine_only_fivestar_only2_df.show()"
      ],
      "execution_count": null,
      "outputs": [
        {
          "output_type": "stream",
          "text": [
            "+---------------------------+-----------------------+\n",
            "|count_five_star_total_votes|notvine_five_star_count|\n",
            "+---------------------------+-----------------------+\n",
            "|                      30523|                  64771|\n",
            "+---------------------------+-----------------------+\n",
            "\n"
          ],
          "name": "stdout"
        }
      ]
    },
    {
      "cell_type": "code",
      "metadata": {
        "id": "K_etQXl1woFr",
        "outputId": "89863dcd-5299-4268-84a4-37c7a80a803b",
        "colab": {
          "base_uri": "https://localhost:8080/",
          "height": 126
        }
      },
      "source": [
        "# Calculate the percentage of non-vine, five star coutns/reviews against total vine reviews\n",
        "percentage_notvinetototal_df = notvine_only_fivestar_only2_df.withColumn(\"notvine_percentage\", notvine_only_fivestar_only2_df[\"count_five_star_total_votes\"] *100/ notvine_only_fivestar_only2_df[\"notvine_five_star_count\"])\n",
        "percentage_notvinetototal_df.show()\n"
      ],
      "execution_count": null,
      "outputs": [
        {
          "output_type": "stream",
          "text": [
            "+---------------------------+-----------------------+------------------+\n",
            "|count_five_star_total_votes|notvine_five_star_count|notvine_percentage|\n",
            "+---------------------------+-----------------------+------------------+\n",
            "|                      30523|                  64771| 47.12448472310139|\n",
            "+---------------------------+-----------------------+------------------+\n",
            "\n"
          ],
          "name": "stdout"
        }
      ]
    },
    {
      "cell_type": "code",
      "metadata": {
        "id": "TblJN5iNwoLn"
      },
      "source": [
        ""
      ],
      "execution_count": null,
      "outputs": []
    }
  ]
}